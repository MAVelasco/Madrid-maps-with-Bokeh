{
 "cells": [
  {
   "cell_type": "markdown",
   "metadata": {},
   "source": [
    "<img src=\"logo.png\" align=\"right\" style=\"float\" width=\"400\">\n",
    "<font color=\"#EF4123\"><h1 align=\"right\">Dude, where's my shared car?</h1></font>"
   ]
  },
  {
   "cell_type": "markdown",
   "metadata": {},
   "source": [
    "**Jupyter 02 - Clima de Madrid**\n",
    "--------------------------------\n",
    "-----------------------------------------------------------------------\n",
    "Cargamos datos del tiempo a nivel local en periodos de una semana o en las próximas 24 horas desde la web de AEMET OpenData. \n",
    "\n",
    "Previamente a cualquier consulta, se requiere solicitar una api-key personal a través del siguiente enlace: https://opendata.aemet.es/centrodedescargas/altaUsuario?. Por otra parte, los métodos de consulta están documentados en https://opendata.aemet.es/dist/index.html?."
   ]
  },
  {
   "cell_type": "markdown",
   "metadata": {},
   "source": [
    "Datos del Tiempo\n",
    "---------------\n",
    "Los métodos de consulta del API REST de AEMET se han implementado en el fichero 'functions_aemet.py'"
   ]
  },
  {
   "cell_type": "code",
   "execution_count": 1,
   "metadata": {},
   "outputs": [],
   "source": [
    "import pandas as pd\n",
    "\n",
    "import urllib.request, json \n",
    "\n",
    "from functions_aemet import consulta_historico_todas_aemet\n",
    "from functions_aemet import consulta_historico_estacion_aemet\n",
    "from functions_aemet import consulta_diaria_aemet\n",
    "from functions_aemet import consulta_horaria_aemet\n",
    "from functions_aemet import consulta_historico_todas_aemet\n",
    "from functions_aemet import consulta_historico_estacion_aemet\n",
    "from functions_aemet import consulta_historico_anno_estacion_aemet"
   ]
  },
  {
   "cell_type": "markdown",
   "metadata": {},
   "source": [
    "Configuraciones previas"
   ]
  },
  {
   "cell_type": "code",
   "execution_count": 2,
   "metadata": {},
   "outputs": [],
   "source": [
    "plotear_en_notebook = True # en caso de False, en un html externo"
   ]
  },
  {
   "cell_type": "markdown",
   "metadata": {},
   "source": [
    "Carga del api-key, que está almacenada en un CSV externo"
   ]
  },
  {
   "cell_type": "code",
   "execution_count": 3,
   "metadata": {},
   "outputs": [
    {
     "name": "stderr",
     "output_type": "stream",
     "text": [
      "C:\\Users\\Miguel\\Anaconda3\\lib\\site-packages\\ipykernel_launcher.py:3: DeprecationWarning: \n",
      ".ix is deprecated. Please use\n",
      ".loc for label based indexing or\n",
      ".iloc for positional indexing\n",
      "\n",
      "See the documentation here:\n",
      "http://pandas.pydata.org/pandas-docs/stable/indexing.html#ix-indexer-is-deprecated\n",
      "  This is separate from the ipykernel package so we can avoid doing imports until\n"
     ]
    }
   ],
   "source": [
    "# read api-key\n",
    "apy_key = pd.read_csv('Datos/api-key.csv')\n",
    "apikey = pd.DataFrame(apy_key, columns=['site','key']).ix[0,'key']\n",
    "#print(apykey)"
   ]
  },
  {
   "cell_type": "markdown",
   "metadata": {},
   "source": [
    "Carga de predicciones climáticas para las próximas horas"
   ]
  },
  {
   "cell_type": "code",
   "execution_count": 4,
   "metadata": {},
   "outputs": [],
   "source": [
    "# configuraciones previas\n",
    "localidad = \"26036\" #\"26036\", Calahorra; \"28079\", Madrid \n",
    "periodo = \"horaria\"  #\"horaria\"; \"diaria\", 1 semana\n",
    "query_semana = ['uvMax','fecha','humedadRelativa.maxima','humedadRelativa.minima','sensTermica.minima','sensTermica.maxima','temperatura.maxima','temperatura.minima']\n",
    "API = \"prediccion/especifica/municipio\""
   ]
  },
  {
   "cell_type": "code",
   "execution_count": 5,
   "metadata": {},
   "outputs": [],
   "source": [
    "datos_aemet_semana, fecha_consulta = consulta_diaria_aemet(apikey, localidad, query_semana, API)\n",
    "#print(datos_aemet_semana)\n",
    "#print(fecha_consulta)\n",
    "\n",
    "prediccion_hoy_1h, prediccion_hoy_6h = consulta_horaria_aemet(apikey, localidad, API)\n",
    "#print(prediccion_hoy_1h)\n",
    "#print(prediccion_hoy_6h)"
   ]
  },
  {
   "cell_type": "markdown",
   "metadata": {},
   "source": [
    "Carga del histórico (máximo de un mes)"
   ]
  },
  {
   "cell_type": "code",
   "execution_count": 6,
   "metadata": {},
   "outputs": [],
   "source": [
    "API = \"valores/climatologicos/diarios/datos\"\n",
    "\n",
    "#fechaini = fecha_consulta + \"T00%3A00%3A00UTC\"\n",
    "fechaini = \"2018-10-01T01%3A01%3A01UTC\"\n",
    "fechafin = \"2018-11-01T01%3A01%3A01UTC\"\n",
    "\n",
    "#data = consulta_historico_todas_aemet(apikey, API, fechaini, fechafin)\n",
    "#print(data)"
   ]
  },
  {
   "cell_type": "code",
   "execution_count": 7,
   "metadata": {},
   "outputs": [],
   "source": [
    "API = \"valores/climatologicos/diarios/datos\"\n",
    "\n",
    "# fechas\n",
    "fechaini = \"2018-10-01T01%3A01%3A01UTC\"\n",
    "#fechaini = fecha_consulta + \"T00%3A00%3A00UTC\"\n",
    "fechafin = \"2018-11-01T01%3A01%3A01UTC\"\n",
    "\n",
    "# estaciones\n",
    "ciudad_universitaria = \"3194U\" \n",
    "aeropuerto = \"3129\" \n",
    "retiro = \"3195\" \n",
    "cuatro_vientos = \"3196\" \n",
    "\n",
    "historico_cu = consulta_historico_estacion_aemet(apikey, ciudad_universitaria, API, fechaini, fechafin)\n",
    "#print(historico_cu)\n",
    "historico_aero = consulta_historico_estacion_aemet(apikey, aeropuerto, API, fechaini, fechafin)\n",
    "#print(historico_aero)\n",
    "historico_retiro = consulta_historico_estacion_aemet(apikey, retiro, API, fechaini, fechafin)\n",
    "#print(historico_retiro)\n",
    "historico_4vientos = consulta_historico_estacion_aemet(apikey, cuatro_vientos, API, fechaini, fechafin)\n",
    "#print(historico_4vientos)"
   ]
  },
  {
   "cell_type": "markdown",
   "metadata": {},
   "source": [
    "Almacenamos el histórico de una estaciónde un año"
   ]
  },
  {
   "cell_type": "code",
   "execution_count": 8,
   "metadata": {},
   "outputs": [
    {
     "name": "stderr",
     "output_type": "stream",
     "text": [
      "C:\\Users\\Miguel\\Anaconda3\\lib\\site-packages\\pandas\\core\\frame.py:6211: FutureWarning: Sorting because non-concatenation axis is not aligned. A future version\n",
      "of pandas will change to not sort by default.\n",
      "\n",
      "To accept the future behavior, pass 'sort=False'.\n",
      "\n",
      "To retain the current behavior and silence the warning, pass 'sort=True'.\n",
      "\n",
      "  sort=sort)\n"
     ]
    }
   ],
   "source": [
    "anno = \"2010\"\n",
    "df = consulta_historico_anno_estacion_aemet(apikey, API,  retiro, anno)\n",
    "columns = ['dir','fecha','horaPresMax','horaPresMin','horaracha','horatmax','horatmin','nombre','prec','presMax','presMin','racha','tmax','tmed','tmin','velmedia']\n",
    "df = df[columns]\n",
    "#print(df)\n",
    "\n",
    "# almacenar fichero\n",
    "filename = \"Datos/climatologia_madrid_\" + anno + \".csv\"\n",
    "df.to_csv(filename, sep=',', encoding='utf-8', index=False)"
   ]
  },
  {
   "cell_type": "markdown",
   "metadata": {},
   "source": [
    "Almacenamos el histórico de una estación durante varios años"
   ]
  },
  {
   "cell_type": "code",
   "execution_count": 9,
   "metadata": {},
   "outputs": [
    {
     "name": "stdout",
     "output_type": "stream",
     "text": [
      "2010\n"
     ]
    },
    {
     "name": "stderr",
     "output_type": "stream",
     "text": [
      "C:\\Users\\Miguel\\Anaconda3\\lib\\site-packages\\pandas\\core\\frame.py:6211: FutureWarning: Sorting because non-concatenation axis is not aligned. A future version\n",
      "of pandas will change to not sort by default.\n",
      "\n",
      "To accept the future behavior, pass 'sort=False'.\n",
      "\n",
      "To retain the current behavior and silence the warning, pass 'sort=True'.\n",
      "\n",
      "  sort=sort)\n"
     ]
    },
    {
     "name": "stdout",
     "output_type": "stream",
     "text": [
      "2011\n",
      "2012\n",
      "2013\n",
      "2014\n",
      "2015\n",
      "2016\n",
      "2017\n",
      "2018\n"
     ]
    }
   ],
   "source": [
    "annos = [\"2010\",\"2011\",\"2012\",\"2013\",\"2014\",\"2015\",\"2016\",\"2017\",\"2018\"]\n",
    "\n",
    "df = pd.DataFrame()\n",
    "for anno in annos:\n",
    "    print(anno)\n",
    "    df_aux = consulta_historico_anno_estacion_aemet(apikey, API,  retiro, anno)\n",
    "    #columns = ['dir','fecha','horaPresMax','horaPresMin','horaracha','horatmax','horatmin','nombre','prec','presMax','presMin','racha','tmax','tmed','tmin','velmedia']\n",
    "    #df_aux = df_aux[columns]\n",
    "    df = df.append(df_aux, ignore_index=True)\n",
    "\n",
    "# filtramos columnas\n",
    "columns = ['dir','fecha','horaPresMax','horaPresMin','horaracha','horatmax','horatmin','nombre','prec','presMax','presMin','racha','tmax','tmed','tmin','velmedia']\n",
    "df = df[columns]\n",
    "    \n",
    "# almacenar fichero\n",
    "filename = \"Datos/climatologia_madrid.csv\"\n",
    "df.to_csv(filename, sep=',', encoding='utf-8', index=False)"
   ]
  },
  {
   "cell_type": "markdown",
   "metadata": {},
   "source": [
    "Bokeh\n",
    "------\n",
    "\n",
    "Usaremos el paquete *Bokeh* para tener representaciones interactivas"
   ]
  },
  {
   "cell_type": "code",
   "execution_count": 10,
   "metadata": {},
   "outputs": [],
   "source": [
    "from bokeh.palettes import viridis,inferno,grey, cividis, plasma, magma\n",
    "from bokeh.io import output_notebook\n",
    "from bokeh.models import GeoJSONDataSource, HoverTool, CategoricalColorMapper, LinearColorMapper\n",
    "from bokeh.plotting import figure, show\n",
    "from bokeh.io import output_file, show\n",
    "from bokeh.models import ColorBar, LinearAxis, Range1d, ColumnDataSource\n",
    "from bokeh.models.widgets import CheckboxGroup\n",
    "from bokeh.models.ranges import Range1d\n",
    "from bokeh.layouts import row"
   ]
  },
  {
   "cell_type": "code",
   "execution_count": 15,
   "metadata": {},
   "outputs": [
    {
     "data": {
      "text/html": [
       "\n",
       "    <div class=\"bk-root\">\n",
       "        <a href=\"https://bokeh.pydata.org\" target=\"_blank\" class=\"bk-logo bk-logo-small bk-logo-notebook\"></a>\n",
       "        <span id=\"4ca34f85-5e7b-4f8d-9477-96fc2982ffdd\">Loading BokehJS ...</span>\n",
       "    </div>"
      ]
     },
     "metadata": {},
     "output_type": "display_data"
    },
    {
     "data": {
      "application/javascript": [
       "\n",
       "(function(root) {\n",
       "  function now() {\n",
       "    return new Date();\n",
       "  }\n",
       "\n",
       "  var force = true;\n",
       "\n",
       "  if (typeof (root._bokeh_onload_callbacks) === \"undefined\" || force === true) {\n",
       "    root._bokeh_onload_callbacks = [];\n",
       "    root._bokeh_is_loading = undefined;\n",
       "  }\n",
       "\n",
       "  var JS_MIME_TYPE = 'application/javascript';\n",
       "  var HTML_MIME_TYPE = 'text/html';\n",
       "  var EXEC_MIME_TYPE = 'application/vnd.bokehjs_exec.v0+json';\n",
       "  var CLASS_NAME = 'output_bokeh rendered_html';\n",
       "\n",
       "  /**\n",
       "   * Render data to the DOM node\n",
       "   */\n",
       "  function render(props, node) {\n",
       "    var script = document.createElement(\"script\");\n",
       "    node.appendChild(script);\n",
       "  }\n",
       "\n",
       "  /**\n",
       "   * Handle when an output is cleared or removed\n",
       "   */\n",
       "  function handleClearOutput(event, handle) {\n",
       "    var cell = handle.cell;\n",
       "\n",
       "    var id = cell.output_area._bokeh_element_id;\n",
       "    var server_id = cell.output_area._bokeh_server_id;\n",
       "    // Clean up Bokeh references\n",
       "    if (id != null && id in Bokeh.index) {\n",
       "      Bokeh.index[id].model.document.clear();\n",
       "      delete Bokeh.index[id];\n",
       "    }\n",
       "\n",
       "    if (server_id !== undefined) {\n",
       "      // Clean up Bokeh references\n",
       "      var cmd = \"from bokeh.io.state import curstate; print(curstate().uuid_to_server['\" + server_id + \"'].get_sessions()[0].document.roots[0]._id)\";\n",
       "      cell.notebook.kernel.execute(cmd, {\n",
       "        iopub: {\n",
       "          output: function(msg) {\n",
       "            var id = msg.content.text.trim();\n",
       "            if (id in Bokeh.index) {\n",
       "              Bokeh.index[id].model.document.clear();\n",
       "              delete Bokeh.index[id];\n",
       "            }\n",
       "          }\n",
       "        }\n",
       "      });\n",
       "      // Destroy server and session\n",
       "      var cmd = \"import bokeh.io.notebook as ion; ion.destroy_server('\" + server_id + \"')\";\n",
       "      cell.notebook.kernel.execute(cmd);\n",
       "    }\n",
       "  }\n",
       "\n",
       "  /**\n",
       "   * Handle when a new output is added\n",
       "   */\n",
       "  function handleAddOutput(event, handle) {\n",
       "    var output_area = handle.output_area;\n",
       "    var output = handle.output;\n",
       "\n",
       "    // limit handleAddOutput to display_data with EXEC_MIME_TYPE content only\n",
       "    if ((output.output_type != \"display_data\") || (!output.data.hasOwnProperty(EXEC_MIME_TYPE))) {\n",
       "      return\n",
       "    }\n",
       "\n",
       "    var toinsert = output_area.element.find(\".\" + CLASS_NAME.split(' ')[0]);\n",
       "\n",
       "    if (output.metadata[EXEC_MIME_TYPE][\"id\"] !== undefined) {\n",
       "      toinsert[toinsert.length - 1].firstChild.textContent = output.data[JS_MIME_TYPE];\n",
       "      // store reference to embed id on output_area\n",
       "      output_area._bokeh_element_id = output.metadata[EXEC_MIME_TYPE][\"id\"];\n",
       "    }\n",
       "    if (output.metadata[EXEC_MIME_TYPE][\"server_id\"] !== undefined) {\n",
       "      var bk_div = document.createElement(\"div\");\n",
       "      bk_div.innerHTML = output.data[HTML_MIME_TYPE];\n",
       "      var script_attrs = bk_div.children[0].attributes;\n",
       "      for (var i = 0; i < script_attrs.length; i++) {\n",
       "        toinsert[toinsert.length - 1].firstChild.setAttribute(script_attrs[i].name, script_attrs[i].value);\n",
       "      }\n",
       "      // store reference to server id on output_area\n",
       "      output_area._bokeh_server_id = output.metadata[EXEC_MIME_TYPE][\"server_id\"];\n",
       "    }\n",
       "  }\n",
       "\n",
       "  function register_renderer(events, OutputArea) {\n",
       "\n",
       "    function append_mime(data, metadata, element) {\n",
       "      // create a DOM node to render to\n",
       "      var toinsert = this.create_output_subarea(\n",
       "        metadata,\n",
       "        CLASS_NAME,\n",
       "        EXEC_MIME_TYPE\n",
       "      );\n",
       "      this.keyboard_manager.register_events(toinsert);\n",
       "      // Render to node\n",
       "      var props = {data: data, metadata: metadata[EXEC_MIME_TYPE]};\n",
       "      render(props, toinsert[toinsert.length - 1]);\n",
       "      element.append(toinsert);\n",
       "      return toinsert\n",
       "    }\n",
       "\n",
       "    /* Handle when an output is cleared or removed */\n",
       "    events.on('clear_output.CodeCell', handleClearOutput);\n",
       "    events.on('delete.Cell', handleClearOutput);\n",
       "\n",
       "    /* Handle when a new output is added */\n",
       "    events.on('output_added.OutputArea', handleAddOutput);\n",
       "\n",
       "    /**\n",
       "     * Register the mime type and append_mime function with output_area\n",
       "     */\n",
       "    OutputArea.prototype.register_mime_type(EXEC_MIME_TYPE, append_mime, {\n",
       "      /* Is output safe? */\n",
       "      safe: true,\n",
       "      /* Index of renderer in `output_area.display_order` */\n",
       "      index: 0\n",
       "    });\n",
       "  }\n",
       "\n",
       "  // register the mime type if in Jupyter Notebook environment and previously unregistered\n",
       "  if (root.Jupyter !== undefined) {\n",
       "    var events = require('base/js/events');\n",
       "    var OutputArea = require('notebook/js/outputarea').OutputArea;\n",
       "\n",
       "    if (OutputArea.prototype.mime_types().indexOf(EXEC_MIME_TYPE) == -1) {\n",
       "      register_renderer(events, OutputArea);\n",
       "    }\n",
       "  }\n",
       "\n",
       "  \n",
       "  if (typeof (root._bokeh_timeout) === \"undefined\" || force === true) {\n",
       "    root._bokeh_timeout = Date.now() + 5000;\n",
       "    root._bokeh_failed_load = false;\n",
       "  }\n",
       "\n",
       "  var NB_LOAD_WARNING = {'data': {'text/html':\n",
       "     \"<div style='background-color: #fdd'>\\n\"+\n",
       "     \"<p>\\n\"+\n",
       "     \"BokehJS does not appear to have successfully loaded. If loading BokehJS from CDN, this \\n\"+\n",
       "     \"may be due to a slow or bad network connection. Possible fixes:\\n\"+\n",
       "     \"</p>\\n\"+\n",
       "     \"<ul>\\n\"+\n",
       "     \"<li>re-rerun `output_notebook()` to attempt to load from CDN again, or</li>\\n\"+\n",
       "     \"<li>use INLINE resources instead, as so:</li>\\n\"+\n",
       "     \"</ul>\\n\"+\n",
       "     \"<code>\\n\"+\n",
       "     \"from bokeh.resources import INLINE\\n\"+\n",
       "     \"output_notebook(resources=INLINE)\\n\"+\n",
       "     \"</code>\\n\"+\n",
       "     \"</div>\"}};\n",
       "\n",
       "  function display_loaded() {\n",
       "    var el = document.getElementById(\"4ca34f85-5e7b-4f8d-9477-96fc2982ffdd\");\n",
       "    if (el != null) {\n",
       "      el.textContent = \"BokehJS is loading...\";\n",
       "    }\n",
       "    if (root.Bokeh !== undefined) {\n",
       "      if (el != null) {\n",
       "        el.textContent = \"BokehJS \" + root.Bokeh.version + \" successfully loaded.\";\n",
       "      }\n",
       "    } else if (Date.now() < root._bokeh_timeout) {\n",
       "      setTimeout(display_loaded, 100)\n",
       "    }\n",
       "  }\n",
       "\n",
       "\n",
       "  function run_callbacks() {\n",
       "    try {\n",
       "      root._bokeh_onload_callbacks.forEach(function(callback) { callback() });\n",
       "    }\n",
       "    finally {\n",
       "      delete root._bokeh_onload_callbacks\n",
       "    }\n",
       "    console.info(\"Bokeh: all callbacks have finished\");\n",
       "  }\n",
       "\n",
       "  function load_libs(js_urls, callback) {\n",
       "    root._bokeh_onload_callbacks.push(callback);\n",
       "    if (root._bokeh_is_loading > 0) {\n",
       "      console.log(\"Bokeh: BokehJS is being loaded, scheduling callback at\", now());\n",
       "      return null;\n",
       "    }\n",
       "    if (js_urls == null || js_urls.length === 0) {\n",
       "      run_callbacks();\n",
       "      return null;\n",
       "    }\n",
       "    console.log(\"Bokeh: BokehJS not loaded, scheduling load and callback at\", now());\n",
       "    root._bokeh_is_loading = js_urls.length;\n",
       "    for (var i = 0; i < js_urls.length; i++) {\n",
       "      var url = js_urls[i];\n",
       "      var s = document.createElement('script');\n",
       "      s.src = url;\n",
       "      s.async = false;\n",
       "      s.onreadystatechange = s.onload = function() {\n",
       "        root._bokeh_is_loading--;\n",
       "        if (root._bokeh_is_loading === 0) {\n",
       "          console.log(\"Bokeh: all BokehJS libraries loaded\");\n",
       "          run_callbacks()\n",
       "        }\n",
       "      };\n",
       "      s.onerror = function() {\n",
       "        console.warn(\"failed to load library \" + url);\n",
       "      };\n",
       "      console.log(\"Bokeh: injecting script tag for BokehJS library: \", url);\n",
       "      document.getElementsByTagName(\"head\")[0].appendChild(s);\n",
       "    }\n",
       "  };var element = document.getElementById(\"4ca34f85-5e7b-4f8d-9477-96fc2982ffdd\");\n",
       "  if (element == null) {\n",
       "    console.log(\"Bokeh: ERROR: autoload.js configured with elementid '4ca34f85-5e7b-4f8d-9477-96fc2982ffdd' but no matching script tag was found. \")\n",
       "    return false;\n",
       "  }\n",
       "\n",
       "  var js_urls = [\"https://cdn.pydata.org/bokeh/release/bokeh-0.13.0.min.js\", \"https://cdn.pydata.org/bokeh/release/bokeh-widgets-0.13.0.min.js\", \"https://cdn.pydata.org/bokeh/release/bokeh-tables-0.13.0.min.js\", \"https://cdn.pydata.org/bokeh/release/bokeh-gl-0.13.0.min.js\"];\n",
       "\n",
       "  var inline_js = [\n",
       "    function(Bokeh) {\n",
       "      Bokeh.set_log_level(\"info\");\n",
       "    },\n",
       "    \n",
       "    function(Bokeh) {\n",
       "      \n",
       "    },\n",
       "    function(Bokeh) {\n",
       "      console.log(\"Bokeh: injecting CSS: https://cdn.pydata.org/bokeh/release/bokeh-0.13.0.min.css\");\n",
       "      Bokeh.embed.inject_css(\"https://cdn.pydata.org/bokeh/release/bokeh-0.13.0.min.css\");\n",
       "      console.log(\"Bokeh: injecting CSS: https://cdn.pydata.org/bokeh/release/bokeh-widgets-0.13.0.min.css\");\n",
       "      Bokeh.embed.inject_css(\"https://cdn.pydata.org/bokeh/release/bokeh-widgets-0.13.0.min.css\");\n",
       "      console.log(\"Bokeh: injecting CSS: https://cdn.pydata.org/bokeh/release/bokeh-tables-0.13.0.min.css\");\n",
       "      Bokeh.embed.inject_css(\"https://cdn.pydata.org/bokeh/release/bokeh-tables-0.13.0.min.css\");\n",
       "    }\n",
       "  ];\n",
       "\n",
       "  function run_inline_js() {\n",
       "    \n",
       "    if ((root.Bokeh !== undefined) || (force === true)) {\n",
       "      for (var i = 0; i < inline_js.length; i++) {\n",
       "        inline_js[i].call(root, root.Bokeh);\n",
       "      }if (force === true) {\n",
       "        display_loaded();\n",
       "      }} else if (Date.now() < root._bokeh_timeout) {\n",
       "      setTimeout(run_inline_js, 100);\n",
       "    } else if (!root._bokeh_failed_load) {\n",
       "      console.log(\"Bokeh: BokehJS failed to load within specified timeout.\");\n",
       "      root._bokeh_failed_load = true;\n",
       "    } else if (force !== true) {\n",
       "      var cell = $(document.getElementById(\"4ca34f85-5e7b-4f8d-9477-96fc2982ffdd\")).parents('.cell').data().cell;\n",
       "      cell.output_area.append_execute_result(NB_LOAD_WARNING)\n",
       "    }\n",
       "\n",
       "  }\n",
       "\n",
       "  if (root._bokeh_is_loading === 0) {\n",
       "    console.log(\"Bokeh: BokehJS loaded, going straight to plotting\");\n",
       "    run_inline_js();\n",
       "  } else {\n",
       "    load_libs(js_urls, function() {\n",
       "      console.log(\"Bokeh: BokehJS plotting callback run at\", now());\n",
       "      run_inline_js();\n",
       "    });\n",
       "  }\n",
       "}(window));"
      ],
      "application/vnd.bokehjs_load.v0+json": "\n(function(root) {\n  function now() {\n    return new Date();\n  }\n\n  var force = true;\n\n  if (typeof (root._bokeh_onload_callbacks) === \"undefined\" || force === true) {\n    root._bokeh_onload_callbacks = [];\n    root._bokeh_is_loading = undefined;\n  }\n\n  \n\n  \n  if (typeof (root._bokeh_timeout) === \"undefined\" || force === true) {\n    root._bokeh_timeout = Date.now() + 5000;\n    root._bokeh_failed_load = false;\n  }\n\n  var NB_LOAD_WARNING = {'data': {'text/html':\n     \"<div style='background-color: #fdd'>\\n\"+\n     \"<p>\\n\"+\n     \"BokehJS does not appear to have successfully loaded. If loading BokehJS from CDN, this \\n\"+\n     \"may be due to a slow or bad network connection. Possible fixes:\\n\"+\n     \"</p>\\n\"+\n     \"<ul>\\n\"+\n     \"<li>re-rerun `output_notebook()` to attempt to load from CDN again, or</li>\\n\"+\n     \"<li>use INLINE resources instead, as so:</li>\\n\"+\n     \"</ul>\\n\"+\n     \"<code>\\n\"+\n     \"from bokeh.resources import INLINE\\n\"+\n     \"output_notebook(resources=INLINE)\\n\"+\n     \"</code>\\n\"+\n     \"</div>\"}};\n\n  function display_loaded() {\n    var el = document.getElementById(\"4ca34f85-5e7b-4f8d-9477-96fc2982ffdd\");\n    if (el != null) {\n      el.textContent = \"BokehJS is loading...\";\n    }\n    if (root.Bokeh !== undefined) {\n      if (el != null) {\n        el.textContent = \"BokehJS \" + root.Bokeh.version + \" successfully loaded.\";\n      }\n    } else if (Date.now() < root._bokeh_timeout) {\n      setTimeout(display_loaded, 100)\n    }\n  }\n\n\n  function run_callbacks() {\n    try {\n      root._bokeh_onload_callbacks.forEach(function(callback) { callback() });\n    }\n    finally {\n      delete root._bokeh_onload_callbacks\n    }\n    console.info(\"Bokeh: all callbacks have finished\");\n  }\n\n  function load_libs(js_urls, callback) {\n    root._bokeh_onload_callbacks.push(callback);\n    if (root._bokeh_is_loading > 0) {\n      console.log(\"Bokeh: BokehJS is being loaded, scheduling callback at\", now());\n      return null;\n    }\n    if (js_urls == null || js_urls.length === 0) {\n      run_callbacks();\n      return null;\n    }\n    console.log(\"Bokeh: BokehJS not loaded, scheduling load and callback at\", now());\n    root._bokeh_is_loading = js_urls.length;\n    for (var i = 0; i < js_urls.length; i++) {\n      var url = js_urls[i];\n      var s = document.createElement('script');\n      s.src = url;\n      s.async = false;\n      s.onreadystatechange = s.onload = function() {\n        root._bokeh_is_loading--;\n        if (root._bokeh_is_loading === 0) {\n          console.log(\"Bokeh: all BokehJS libraries loaded\");\n          run_callbacks()\n        }\n      };\n      s.onerror = function() {\n        console.warn(\"failed to load library \" + url);\n      };\n      console.log(\"Bokeh: injecting script tag for BokehJS library: \", url);\n      document.getElementsByTagName(\"head\")[0].appendChild(s);\n    }\n  };var element = document.getElementById(\"4ca34f85-5e7b-4f8d-9477-96fc2982ffdd\");\n  if (element == null) {\n    console.log(\"Bokeh: ERROR: autoload.js configured with elementid '4ca34f85-5e7b-4f8d-9477-96fc2982ffdd' but no matching script tag was found. \")\n    return false;\n  }\n\n  var js_urls = [\"https://cdn.pydata.org/bokeh/release/bokeh-0.13.0.min.js\", \"https://cdn.pydata.org/bokeh/release/bokeh-widgets-0.13.0.min.js\", \"https://cdn.pydata.org/bokeh/release/bokeh-tables-0.13.0.min.js\", \"https://cdn.pydata.org/bokeh/release/bokeh-gl-0.13.0.min.js\"];\n\n  var inline_js = [\n    function(Bokeh) {\n      Bokeh.set_log_level(\"info\");\n    },\n    \n    function(Bokeh) {\n      \n    },\n    function(Bokeh) {\n      console.log(\"Bokeh: injecting CSS: https://cdn.pydata.org/bokeh/release/bokeh-0.13.0.min.css\");\n      Bokeh.embed.inject_css(\"https://cdn.pydata.org/bokeh/release/bokeh-0.13.0.min.css\");\n      console.log(\"Bokeh: injecting CSS: https://cdn.pydata.org/bokeh/release/bokeh-widgets-0.13.0.min.css\");\n      Bokeh.embed.inject_css(\"https://cdn.pydata.org/bokeh/release/bokeh-widgets-0.13.0.min.css\");\n      console.log(\"Bokeh: injecting CSS: https://cdn.pydata.org/bokeh/release/bokeh-tables-0.13.0.min.css\");\n      Bokeh.embed.inject_css(\"https://cdn.pydata.org/bokeh/release/bokeh-tables-0.13.0.min.css\");\n    }\n  ];\n\n  function run_inline_js() {\n    \n    if ((root.Bokeh !== undefined) || (force === true)) {\n      for (var i = 0; i < inline_js.length; i++) {\n        inline_js[i].call(root, root.Bokeh);\n      }if (force === true) {\n        display_loaded();\n      }} else if (Date.now() < root._bokeh_timeout) {\n      setTimeout(run_inline_js, 100);\n    } else if (!root._bokeh_failed_load) {\n      console.log(\"Bokeh: BokehJS failed to load within specified timeout.\");\n      root._bokeh_failed_load = true;\n    } else if (force !== true) {\n      var cell = $(document.getElementById(\"4ca34f85-5e7b-4f8d-9477-96fc2982ffdd\")).parents('.cell').data().cell;\n      cell.output_area.append_execute_result(NB_LOAD_WARNING)\n    }\n\n  }\n\n  if (root._bokeh_is_loading === 0) {\n    console.log(\"Bokeh: BokehJS loaded, going straight to plotting\");\n    run_inline_js();\n  } else {\n    load_libs(js_urls, function() {\n      console.log(\"Bokeh: BokehJS plotting callback run at\", now());\n      run_inline_js();\n    });\n  }\n}(window));"
     },
     "metadata": {},
     "output_type": "display_data"
    },
    {
     "data": {
      "text/html": [
       "\n",
       "\n",
       "\n",
       "\n",
       "\n",
       "\n",
       "  <div class=\"bk-root\" id=\"d7a54180-bf14-476c-b508-ddb57bdf5ff4\"></div>\n"
      ]
     },
     "metadata": {},
     "output_type": "display_data"
    },
    {
     "data": {
      "application/javascript": [
       "(function(root) {\n",
       "  function embed_document(root) {\n",
       "    \n",
       "  var docs_json = {\"d5f8beaf-3898-4d44-b36b-048affd208ac\":{\"roots\":{\"references\":[{\"attributes\":{\"items\":[{\"id\":\"aced2f61-ba68-464e-9976-89284502b851\",\"type\":\"LegendItem\"},{\"id\":\"27ec1157-d266-48af-931f-baa0c0c8736c\",\"type\":\"LegendItem\"}],\"plot\":{\"id\":\"45b1782b-b327-40bb-b3a9-6e4efd411ddd\",\"subtype\":\"Figure\",\"type\":\"Plot\"}},\"id\":\"f963f52f-0737-4819-a171-b13120b095c4\",\"type\":\"Legend\"},{\"attributes\":{},\"id\":\"20c1f2e2-e1d3-4142-aa88-8332d6b5c552\",\"type\":\"HelpTool\"},{\"attributes\":{\"bottom_units\":\"screen\",\"fill_alpha\":{\"value\":0.5},\"fill_color\":{\"value\":\"lightgrey\"},\"left_units\":\"screen\",\"level\":\"overlay\",\"line_alpha\":{\"value\":1.0},\"line_color\":{\"value\":\"black\"},\"line_dash\":[4,4],\"line_width\":{\"value\":2},\"plot\":null,\"render_mode\":\"css\",\"right_units\":\"screen\",\"top_units\":\"screen\"},\"id\":\"30dd0f5b-b0d6-4db1-b82b-f4fecee1823e\",\"type\":\"BoxAnnotation\"},{\"attributes\":{},\"id\":\"7eadad4a-57de-465d-b00c-01442b89c22d\",\"type\":\"BasicTicker\"},{\"attributes\":{\"label\":{\"value\":\"Temperatura\"},\"renderers\":[{\"id\":\"172bda28-c4f1-48c6-b473-f1d6b80ae87c\",\"type\":\"GlyphRenderer\"}]},\"id\":\"aced2f61-ba68-464e-9976-89284502b851\",\"type\":\"LegendItem\"},{\"attributes\":{},\"id\":\"bf76ffcd-8562-44ee-b1e8-37745374e51d\",\"type\":\"BasicTicker\"},{\"attributes\":{},\"id\":\"75c38dc2-84b5-4cf1-9380-48b2f0d165a0\",\"type\":\"UnionRenderers\"},{\"attributes\":{\"callback\":null,\"mode\":\"vline\",\"renderers\":[{\"id\":\"172bda28-c4f1-48c6-b473-f1d6b80ae87c\",\"type\":\"GlyphRenderer\"}],\"tooltips\":[[\"Hora\",\"@periodo\"],[\"Temperatura\",\"@temperatura\"]]},\"id\":\"b846d8bf-9bb7-4f21-917f-20e7f85b0030\",\"type\":\"HoverTool\"},{\"attributes\":{\"line_alpha\":0.8,\"line_color\":\"#a5dc00\",\"line_width\":3,\"x\":{\"field\":\"periodo\"},\"y\":{\"field\":\"viento\"}},\"id\":\"c7e00504-f619-4697-9624-3a519e06eef1\",\"type\":\"Line\"},{\"attributes\":{\"line_alpha\":0.1,\"line_color\":\"#1f77b4\",\"line_width\":3,\"x\":{\"field\":\"periodo\"},\"y\":{\"field\":\"viento\"}},\"id\":\"9dddb4c8-5817-4aac-bc7d-8c8060da31c6\",\"type\":\"Line\"},{\"attributes\":{\"data_source\":{\"id\":\"d7b27edc-f44b-4241-9ea0-76a7670d76c1\",\"type\":\"ColumnDataSource\"},\"glyph\":{\"id\":\"c7e00504-f619-4697-9624-3a519e06eef1\",\"type\":\"Line\"},\"hover_glyph\":null,\"muted_glyph\":null,\"nonselection_glyph\":{\"id\":\"9dddb4c8-5817-4aac-bc7d-8c8060da31c6\",\"type\":\"Line\"},\"selection_glyph\":null,\"view\":{\"id\":\"43f5752a-72b3-4881-b3de-6a1f54529252\",\"type\":\"CDSView\"},\"y_range_name\":\"extra_y\"},\"id\":\"03f46559-02c4-4c4f-acc7-36c362467266\",\"type\":\"GlyphRenderer\"},{\"attributes\":{\"source\":{\"id\":\"d7b27edc-f44b-4241-9ea0-76a7670d76c1\",\"type\":\"ColumnDataSource\"}},\"id\":\"43f5752a-72b3-4881-b3de-6a1f54529252\",\"type\":\"CDSView\"},{\"attributes\":{},\"id\":\"49a9b950-10f0-4177-8d8f-1273d9dd6d5b\",\"type\":\"Selection\"},{\"attributes\":{\"callback\":null,\"mode\":\"vline\",\"renderers\":[{\"id\":\"03f46559-02c4-4c4f-acc7-36c362467266\",\"type\":\"GlyphRenderer\"}],\"tooltips\":[[\"Hora\",\"@periodo\"],[\"Viento\",\"@viento\"]]},\"id\":\"328466a2-85a7-4ffb-9c14-ff1466f47c7f\",\"type\":\"HoverTool\"},{\"attributes\":{\"label\":{\"value\":\"Viento\"},\"renderers\":[{\"id\":\"03f46559-02c4-4c4f-acc7-36c362467266\",\"type\":\"GlyphRenderer\"}]},\"id\":\"27ec1157-d266-48af-931f-baa0c0c8736c\",\"type\":\"LegendItem\"},{\"attributes\":{},\"id\":\"6cd71b5e-31cf-4c81-875c-719364216350\",\"type\":\"BasicTickFormatter\"},{\"attributes\":{\"axis_label\":\"Viento\",\"formatter\":{\"id\":\"061a5f13-83b3-4c73-b1cb-0f86e5cc6261\",\"type\":\"BasicTickFormatter\"},\"plot\":{\"id\":\"45b1782b-b327-40bb-b3a9-6e4efd411ddd\",\"subtype\":\"Figure\",\"type\":\"Plot\"},\"ticker\":{\"id\":\"bf76ffcd-8562-44ee-b1e8-37745374e51d\",\"type\":\"BasicTicker\"},\"y_range_name\":\"extra_y\"},\"id\":\"49e50af0-64b2-4c8c-b490-da3e2b4838dc\",\"type\":\"LinearAxis\"},{\"attributes\":{\"callback\":null,\"end\":50},\"id\":\"c81d3362-e071-4664-b244-60041bbbc8ce\",\"type\":\"Range1d\"},{\"attributes\":{\"plot\":null,\"text\":\"Madrid: predicci\\u00f3n para el 2018-12-28\"},\"id\":\"81d12ac0-960a-4108-bd89-aee033b3d6c1\",\"type\":\"Title\"},{\"attributes\":{\"bounds\":[0,null],\"callback\":null,\"end\":20},\"id\":\"b6ad8114-f9b4-41f3-9822-51364e386002\",\"type\":\"Range1d\"},{\"attributes\":{\"below\":[{\"id\":\"01b12f04-1e5a-4587-bdd9-cb885bcdd9ee\",\"type\":\"LinearAxis\"}],\"extra_y_ranges\":{\"extra_y\":{\"id\":\"8b12c156-2b8e-4a8a-a46d-5997e3d5a0c9\",\"type\":\"Range1d\"}},\"left\":[{\"id\":\"a3daae32-7d8a-4fd1-b8fc-5ffcbd3657e8\",\"type\":\"LinearAxis\"}],\"plot_height\":500,\"plot_width\":500,\"renderers\":[{\"id\":\"01b12f04-1e5a-4587-bdd9-cb885bcdd9ee\",\"type\":\"LinearAxis\"},{\"id\":\"aa92bc50-ccea-4d23-86a0-6074adbd2a60\",\"type\":\"Grid\"},{\"id\":\"a3daae32-7d8a-4fd1-b8fc-5ffcbd3657e8\",\"type\":\"LinearAxis\"},{\"id\":\"30c5a227-51a3-4dc8-9c83-adf1b58add35\",\"type\":\"Grid\"},{\"id\":\"17657523-76dc-49a8-bb42-654f7205629f\",\"type\":\"BoxAnnotation\"},{\"id\":\"6e6790a8-8a9f-460b-b27b-74961f64eefd\",\"type\":\"Legend\"},{\"id\":\"564c75b2-ab4d-4418-99a1-187fe68eb64d\",\"type\":\"GlyphRenderer\"},{\"id\":\"6f60d4ba-61f6-4cb1-96f6-df6d51c1618f\",\"type\":\"GlyphRenderer\"},{\"id\":\"5e1796b9-0ea0-4605-b9e4-d741d224d4cb\",\"type\":\"LinearAxis\"}],\"right\":[{\"id\":\"5e1796b9-0ea0-4605-b9e4-d741d224d4cb\",\"type\":\"LinearAxis\"}],\"title\":{\"id\":\"81d12ac0-960a-4108-bd89-aee033b3d6c1\",\"type\":\"Title\"},\"toolbar\":{\"id\":\"b2cf9603-a677-4c7f-afeb-c861b38f27c1\",\"type\":\"Toolbar\"},\"x_range\":{\"id\":\"b0a2bfa6-c0c1-4f45-b401-56985a26e17d\",\"type\":\"Range1d\"},\"x_scale\":{\"id\":\"ff3e30d7-ce27-49ba-ad51-11b6e4c6488a\",\"type\":\"LinearScale\"},\"y_range\":{\"id\":\"b6ad8114-f9b4-41f3-9822-51364e386002\",\"type\":\"Range1d\"},\"y_scale\":{\"id\":\"bcfc1a5d-dc3f-45fa-ab7c-f9d51709a942\",\"type\":\"LinearScale\"}},\"id\":\"9bd2cd61-57cc-49c5-8892-c631b71f81cb\",\"subtype\":\"Figure\",\"type\":\"Plot\"},{\"attributes\":{\"data_source\":{\"id\":\"d7b27edc-f44b-4241-9ea0-76a7670d76c1\",\"type\":\"ColumnDataSource\"},\"glyph\":{\"id\":\"bef9743a-b943-4cfa-9aed-3772f08253f3\",\"type\":\"Line\"},\"hover_glyph\":null,\"muted_glyph\":null,\"nonselection_glyph\":{\"id\":\"9814a2f1-7a7f-45fc-ace8-7306b4fc89f4\",\"type\":\"Line\"},\"selection_glyph\":null,\"view\":{\"id\":\"0ebe3b9d-276c-4809-9fc8-c95b34d648f1\",\"type\":\"CDSView\"}},\"id\":\"564c75b2-ab4d-4418-99a1-187fe68eb64d\",\"type\":\"GlyphRenderer\"},{\"attributes\":{\"active_drag\":\"auto\",\"active_inspect\":\"auto\",\"active_multi\":null,\"active_scroll\":\"auto\",\"active_tap\":\"auto\",\"tools\":[{\"id\":\"4cd8d6d5-37ba-478f-b230-bc1850163ff0\",\"type\":\"PanTool\"},{\"id\":\"cc76759c-c0b8-4c41-a733-1116014e0687\",\"type\":\"WheelZoomTool\"},{\"id\":\"88924fc7-3221-4d4a-93c5-3ea95da05eda\",\"type\":\"BoxZoomTool\"},{\"id\":\"3d5f4c70-ca13-4636-99f2-b827b17bcd89\",\"type\":\"SaveTool\"},{\"id\":\"7c67c2b8-26cd-4139-a929-0717eae60ce1\",\"type\":\"ResetTool\"},{\"id\":\"3ed98af0-f9fc-4117-8a99-3623d3f78dd3\",\"type\":\"HelpTool\"},{\"id\":\"91b804c1-d759-4bef-8476-a676b0248042\",\"type\":\"HoverTool\"},{\"id\":\"628c9761-809d-4db6-aeed-1557058a4716\",\"type\":\"HoverTool\"}]},\"id\":\"b2cf9603-a677-4c7f-afeb-c861b38f27c1\",\"type\":\"Toolbar\"},{\"attributes\":{},\"id\":\"cd6e923c-ed2d-4ec9-92fd-c7fa8f8f3353\",\"type\":\"BasicTickFormatter\"},{\"attributes\":{},\"id\":\"463148e8-07d7-4970-8f01-797679d6d099\",\"type\":\"BasicTicker\"},{\"attributes\":{\"line_alpha\":0.8,\"line_color\":\"#00a5dc\",\"line_width\":3,\"x\":{\"field\":\"periodo\"},\"y\":{\"field\":\"precipitacion\"}},\"id\":\"bef9743a-b943-4cfa-9aed-3772f08253f3\",\"type\":\"Line\"},{\"attributes\":{},\"id\":\"ff3e30d7-ce27-49ba-ad51-11b6e4c6488a\",\"type\":\"LinearScale\"},{\"attributes\":{},\"id\":\"bcfc1a5d-dc3f-45fa-ab7c-f9d51709a942\",\"type\":\"LinearScale\"},{\"attributes\":{\"line_alpha\":0.1,\"line_color\":\"#1f77b4\",\"line_width\":3,\"x\":{\"field\":\"periodo\"},\"y\":{\"field\":\"precipitacion\"}},\"id\":\"9814a2f1-7a7f-45fc-ace8-7306b4fc89f4\",\"type\":\"Line\"},{\"attributes\":{\"axis_label\":\"Hora\",\"formatter\":{\"id\":\"7c0d8016-a3d6-41d5-8246-3ba33af6dd60\",\"type\":\"BasicTickFormatter\"},\"plot\":{\"id\":\"9bd2cd61-57cc-49c5-8892-c631b71f81cb\",\"subtype\":\"Figure\",\"type\":\"Plot\"},\"ticker\":{\"id\":\"0f361fc6-9d7c-4ba5-92c4-fc1e4f860a4a\",\"type\":\"BasicTicker\"}},\"id\":\"01b12f04-1e5a-4587-bdd9-cb885bcdd9ee\",\"type\":\"LinearAxis\"},{\"attributes\":{},\"id\":\"0f361fc6-9d7c-4ba5-92c4-fc1e4f860a4a\",\"type\":\"BasicTicker\"},{\"attributes\":{\"dimension\":1,\"plot\":{\"id\":\"9bd2cd61-57cc-49c5-8892-c631b71f81cb\",\"subtype\":\"Figure\",\"type\":\"Plot\"},\"ticker\":{\"id\":\"463148e8-07d7-4970-8f01-797679d6d099\",\"type\":\"BasicTicker\"}},\"id\":\"30c5a227-51a3-4dc8-9c83-adf1b58add35\",\"type\":\"Grid\"},{\"attributes\":{\"items\":[{\"id\":\"7bcd1bbe-65b8-4117-83a7-324b09d14286\",\"type\":\"LegendItem\"},{\"id\":\"6ddd99a0-20ec-47c4-bdc4-0c2056dbd45c\",\"type\":\"LegendItem\"}],\"plot\":{\"id\":\"9bd2cd61-57cc-49c5-8892-c631b71f81cb\",\"subtype\":\"Figure\",\"type\":\"Plot\"}},\"id\":\"6e6790a8-8a9f-460b-b27b-74961f64eefd\",\"type\":\"Legend\"},{\"attributes\":{\"bounds\":[0,null],\"callback\":null,\"end\":23,\"start\":7},\"id\":\"b0a2bfa6-c0c1-4f45-b401-56985a26e17d\",\"type\":\"Range1d\"},{\"attributes\":{},\"id\":\"7c0d8016-a3d6-41d5-8246-3ba33af6dd60\",\"type\":\"BasicTickFormatter\"},{\"attributes\":{},\"id\":\"99f10f6e-7871-42d4-8f50-7c945f443de9\",\"type\":\"SaveTool\"},{\"attributes\":{\"children\":[{\"id\":\"45b1782b-b327-40bb-b3a9-6e4efd411ddd\",\"subtype\":\"Figure\",\"type\":\"Plot\"},{\"id\":\"9bd2cd61-57cc-49c5-8892-c631b71f81cb\",\"subtype\":\"Figure\",\"type\":\"Plot\"}]},\"id\":\"2435c5da-cabd-42f5-8d9b-01689d118bf8\",\"type\":\"Row\"},{\"attributes\":{},\"id\":\"4cd8d6d5-37ba-478f-b230-bc1850163ff0\",\"type\":\"PanTool\"},{\"attributes\":{\"active_drag\":\"auto\",\"active_inspect\":\"auto\",\"active_multi\":null,\"active_scroll\":\"auto\",\"active_tap\":\"auto\",\"tools\":[{\"id\":\"0721c62d-58db-4039-81a4-ab8b5dd3e291\",\"type\":\"PanTool\"},{\"id\":\"6515b0d5-6fb2-45da-993d-97a39ab42673\",\"type\":\"WheelZoomTool\"},{\"id\":\"60b1aaa4-c445-49b2-9acf-07502824853b\",\"type\":\"BoxZoomTool\"},{\"id\":\"99f10f6e-7871-42d4-8f50-7c945f443de9\",\"type\":\"SaveTool\"},{\"id\":\"57d6d9ee-036e-4763-8aaa-e90110c332a7\",\"type\":\"ResetTool\"},{\"id\":\"20c1f2e2-e1d3-4142-aa88-8332d6b5c552\",\"type\":\"HelpTool\"},{\"id\":\"b846d8bf-9bb7-4f21-917f-20e7f85b0030\",\"type\":\"HoverTool\"},{\"id\":\"328466a2-85a7-4ffb-9c14-ff1466f47c7f\",\"type\":\"HoverTool\"}]},\"id\":\"0a90d5ba-5290-4e8d-8ccd-73b39ca98e63\",\"type\":\"Toolbar\"},{\"attributes\":{\"source\":{\"id\":\"d7b27edc-f44b-4241-9ea0-76a7670d76c1\",\"type\":\"ColumnDataSource\"}},\"id\":\"0ebe3b9d-276c-4809-9fc8-c95b34d648f1\",\"type\":\"CDSView\"},{\"attributes\":{},\"id\":\"cc76759c-c0b8-4c41-a733-1116014e0687\",\"type\":\"WheelZoomTool\"},{\"attributes\":{\"bounds\":[0,null],\"callback\":null,\"end\":20},\"id\":\"dd9a7a9d-86fc-4a58-8807-812f48ec08bb\",\"type\":\"Range1d\"},{\"attributes\":{\"overlay\":{\"id\":\"17657523-76dc-49a8-bb42-654f7205629f\",\"type\":\"BoxAnnotation\"}},\"id\":\"88924fc7-3221-4d4a-93c5-3ea95da05eda\",\"type\":\"BoxZoomTool\"},{\"attributes\":{},\"id\":\"3d5f4c70-ca13-4636-99f2-b827b17bcd89\",\"type\":\"SaveTool\"},{\"attributes\":{},\"id\":\"7c67c2b8-26cd-4139-a929-0717eae60ce1\",\"type\":\"ResetTool\"},{\"attributes\":{},\"id\":\"3ed98af0-f9fc-4117-8a99-3623d3f78dd3\",\"type\":\"HelpTool\"},{\"attributes\":{},\"id\":\"6515b0d5-6fb2-45da-993d-97a39ab42673\",\"type\":\"WheelZoomTool\"},{\"attributes\":{\"plot\":null,\"text\":\"Madrid: predicci\\u00f3n para el 2018-12-28\"},\"id\":\"efa660d7-587e-42e4-a5e2-67b199c96bab\",\"type\":\"Title\"},{\"attributes\":{\"bottom_units\":\"screen\",\"fill_alpha\":{\"value\":0.5},\"fill_color\":{\"value\":\"lightgrey\"},\"left_units\":\"screen\",\"level\":\"overlay\",\"line_alpha\":{\"value\":1.0},\"line_color\":{\"value\":\"black\"},\"line_dash\":[4,4],\"line_width\":{\"value\":2},\"plot\":null,\"render_mode\":\"css\",\"right_units\":\"screen\",\"top_units\":\"screen\"},\"id\":\"17657523-76dc-49a8-bb42-654f7205629f\",\"type\":\"BoxAnnotation\"},{\"attributes\":{\"source\":{\"id\":\"d7b27edc-f44b-4241-9ea0-76a7670d76c1\",\"type\":\"ColumnDataSource\"}},\"id\":\"85ecd111-e5c0-497a-9373-932082778216\",\"type\":\"CDSView\"},{\"attributes\":{\"axis_label\":\"Humedad Relativa\",\"formatter\":{\"id\":\"cd6e923c-ed2d-4ec9-92fd-c7fa8f8f3353\",\"type\":\"BasicTickFormatter\"},\"plot\":{\"id\":\"9bd2cd61-57cc-49c5-8892-c631b71f81cb\",\"subtype\":\"Figure\",\"type\":\"Plot\"},\"ticker\":{\"id\":\"fe36010d-4c8c-4c99-9ab3-663248ca0506\",\"type\":\"BasicTicker\"},\"y_range_name\":\"extra_y\"},\"id\":\"5e1796b9-0ea0-4605-b9e4-d741d224d4cb\",\"type\":\"LinearAxis\"},{\"attributes\":{},\"id\":\"0721c62d-58db-4039-81a4-ab8b5dd3e291\",\"type\":\"PanTool\"},{\"attributes\":{},\"id\":\"a756974f-3f68-41d0-9303-f5f36065e3f9\",\"type\":\"BasicTickFormatter\"},{\"attributes\":{\"plot\":{\"id\":\"9bd2cd61-57cc-49c5-8892-c631b71f81cb\",\"subtype\":\"Figure\",\"type\":\"Plot\"},\"ticker\":{\"id\":\"0f361fc6-9d7c-4ba5-92c4-fc1e4f860a4a\",\"type\":\"BasicTicker\"}},\"id\":\"aa92bc50-ccea-4d23-86a0-6074adbd2a60\",\"type\":\"Grid\"},{\"attributes\":{\"label\":{\"value\":\"Precipitacion\"},\"renderers\":[{\"id\":\"564c75b2-ab4d-4418-99a1-187fe68eb64d\",\"type\":\"GlyphRenderer\"}]},\"id\":\"7bcd1bbe-65b8-4117-83a7-324b09d14286\",\"type\":\"LegendItem\"},{\"attributes\":{\"overlay\":{\"id\":\"30dd0f5b-b0d6-4db1-b82b-f4fecee1823e\",\"type\":\"BoxAnnotation\"}},\"id\":\"60b1aaa4-c445-49b2-9acf-07502824853b\",\"type\":\"BoxZoomTool\"},{\"attributes\":{},\"id\":\"57d6d9ee-036e-4763-8aaa-e90110c332a7\",\"type\":\"ResetTool\"},{\"attributes\":{\"callback\":null,\"mode\":\"vline\",\"renderers\":[{\"id\":\"564c75b2-ab4d-4418-99a1-187fe68eb64d\",\"type\":\"GlyphRenderer\"}],\"tooltips\":[[\"Hora\",\"@periodo\"],[\"Precipitaci\\u00f3n\",\"@precipitacion\"]]},\"id\":\"91b804c1-d759-4bef-8476-a676b0248042\",\"type\":\"HoverTool\"},{\"attributes\":{\"line_alpha\":0.8,\"line_color\":\"#00dc37\",\"line_width\":3,\"x\":{\"field\":\"periodo\"},\"y\":{\"field\":\"humedad_relativa\"}},\"id\":\"e7c1f141-09ee-48d1-9ebc-8f658c5e8239\",\"type\":\"Line\"},{\"attributes\":{},\"id\":\"4d2c1c53-b3e5-41cd-9ef4-e3231ea86f7d\",\"type\":\"LinearScale\"},{\"attributes\":{\"line_alpha\":0.1,\"line_color\":\"#1f77b4\",\"line_width\":3,\"x\":{\"field\":\"periodo\"},\"y\":{\"field\":\"humedad_relativa\"}},\"id\":\"dfc0e041-ab59-4bca-bb1d-164e7fb08d4a\",\"type\":\"Line\"},{\"attributes\":{\"data_source\":{\"id\":\"d7b27edc-f44b-4241-9ea0-76a7670d76c1\",\"type\":\"ColumnDataSource\"},\"glyph\":{\"id\":\"e7c1f141-09ee-48d1-9ebc-8f658c5e8239\",\"type\":\"Line\"},\"hover_glyph\":null,\"muted_glyph\":null,\"nonselection_glyph\":{\"id\":\"dfc0e041-ab59-4bca-bb1d-164e7fb08d4a\",\"type\":\"Line\"},\"selection_glyph\":null,\"view\":{\"id\":\"952a48e9-3d11-4466-8a64-a32995865438\",\"type\":\"CDSView\"},\"y_range_name\":\"extra_y\"},\"id\":\"6f60d4ba-61f6-4cb1-96f6-df6d51c1618f\",\"type\":\"GlyphRenderer\"},{\"attributes\":{\"axis_label\":\"Temperatura\",\"formatter\":{\"id\":\"b3e775cf-cd18-46cc-85a6-8e55b0e563fb\",\"type\":\"BasicTickFormatter\"},\"plot\":{\"id\":\"45b1782b-b327-40bb-b3a9-6e4efd411ddd\",\"subtype\":\"Figure\",\"type\":\"Plot\"},\"ticker\":{\"id\":\"7eadad4a-57de-465d-b00c-01442b89c22d\",\"type\":\"BasicTicker\"}},\"id\":\"f1ea7df1-7713-4db7-849f-61a8cd553971\",\"type\":\"LinearAxis\"},{\"attributes\":{\"source\":{\"id\":\"d7b27edc-f44b-4241-9ea0-76a7670d76c1\",\"type\":\"ColumnDataSource\"}},\"id\":\"952a48e9-3d11-4466-8a64-a32995865438\",\"type\":\"CDSView\"},{\"attributes\":{\"plot\":{\"id\":\"45b1782b-b327-40bb-b3a9-6e4efd411ddd\",\"subtype\":\"Figure\",\"type\":\"Plot\"},\"ticker\":{\"id\":\"25853c95-b62f-4317-9aee-e41bb82c8e9b\",\"type\":\"BasicTicker\"}},\"id\":\"11e77f10-7528-48e9-b620-cbbc6da026ba\",\"type\":\"Grid\"},{\"attributes\":{\"label\":{\"value\":\"Humedad\"},\"renderers\":[{\"id\":\"6f60d4ba-61f6-4cb1-96f6-df6d51c1618f\",\"type\":\"GlyphRenderer\"}]},\"id\":\"6ddd99a0-20ec-47c4-bdc4-0c2056dbd45c\",\"type\":\"LegendItem\"},{\"attributes\":{\"axis_label\":\"Precipitacion\",\"formatter\":{\"id\":\"a756974f-3f68-41d0-9303-f5f36065e3f9\",\"type\":\"BasicTickFormatter\"},\"plot\":{\"id\":\"9bd2cd61-57cc-49c5-8892-c631b71f81cb\",\"subtype\":\"Figure\",\"type\":\"Plot\"},\"ticker\":{\"id\":\"463148e8-07d7-4970-8f01-797679d6d099\",\"type\":\"BasicTicker\"}},\"id\":\"a3daae32-7d8a-4fd1-b8fc-5ffcbd3657e8\",\"type\":\"LinearAxis\"},{\"attributes\":{\"callback\":null,\"mode\":\"vline\",\"renderers\":[{\"id\":\"6f60d4ba-61f6-4cb1-96f6-df6d51c1618f\",\"type\":\"GlyphRenderer\"}],\"tooltips\":[[\"Hora\",\"@periodo\"],[\"Humedad relativa\",\"@humedad_relativa\"]]},\"id\":\"628c9761-809d-4db6-aeed-1557058a4716\",\"type\":\"HoverTool\"},{\"attributes\":{\"line_alpha\":0.1,\"line_color\":\"#1f77b4\",\"line_width\":3,\"x\":{\"field\":\"periodo\"},\"y\":{\"field\":\"temperatura\"}},\"id\":\"a3ac1904-bb80-464e-b8bd-1a159d84e3e3\",\"type\":\"Line\"},{\"attributes\":{\"callback\":null,\"end\":100},\"id\":\"8b12c156-2b8e-4a8a-a46d-5997e3d5a0c9\",\"type\":\"Range1d\"},{\"attributes\":{},\"id\":\"808d6292-4173-446e-8951-037d0b645681\",\"type\":\"LinearScale\"},{\"attributes\":{\"line_alpha\":0.8,\"line_color\":\"#dc3700\",\"line_width\":3,\"x\":{\"field\":\"periodo\"},\"y\":{\"field\":\"temperatura\"}},\"id\":\"743170d4-ce82-49a8-b0b2-4a2d7a9c50cf\",\"type\":\"Line\"},{\"attributes\":{\"dimension\":1,\"plot\":{\"id\":\"45b1782b-b327-40bb-b3a9-6e4efd411ddd\",\"subtype\":\"Figure\",\"type\":\"Plot\"},\"ticker\":{\"id\":\"7eadad4a-57de-465d-b00c-01442b89c22d\",\"type\":\"BasicTicker\"}},\"id\":\"b2758ea4-fee1-494d-b065-1357d8553f4d\",\"type\":\"Grid\"},{\"attributes\":{},\"id\":\"061a5f13-83b3-4c73-b1cb-0f86e5cc6261\",\"type\":\"BasicTickFormatter\"},{\"attributes\":{\"axis_label\":\"Hora\",\"formatter\":{\"id\":\"6cd71b5e-31cf-4c81-875c-719364216350\",\"type\":\"BasicTickFormatter\"},\"plot\":{\"id\":\"45b1782b-b327-40bb-b3a9-6e4efd411ddd\",\"subtype\":\"Figure\",\"type\":\"Plot\"},\"ticker\":{\"id\":\"25853c95-b62f-4317-9aee-e41bb82c8e9b\",\"type\":\"BasicTicker\"}},\"id\":\"9b0d9537-ce9f-4d36-9a27-d0d56273480c\",\"type\":\"LinearAxis\"},{\"attributes\":{},\"id\":\"fe36010d-4c8c-4c99-9ab3-663248ca0506\",\"type\":\"BasicTicker\"},{\"attributes\":{\"data_source\":{\"id\":\"d7b27edc-f44b-4241-9ea0-76a7670d76c1\",\"type\":\"ColumnDataSource\"},\"glyph\":{\"id\":\"743170d4-ce82-49a8-b0b2-4a2d7a9c50cf\",\"type\":\"Line\"},\"hover_glyph\":null,\"muted_glyph\":null,\"nonselection_glyph\":{\"id\":\"a3ac1904-bb80-464e-b8bd-1a159d84e3e3\",\"type\":\"Line\"},\"selection_glyph\":null,\"view\":{\"id\":\"85ecd111-e5c0-497a-9373-932082778216\",\"type\":\"CDSView\"}},\"id\":\"172bda28-c4f1-48c6-b473-f1d6b80ae87c\",\"type\":\"GlyphRenderer\"},{\"attributes\":{},\"id\":\"25853c95-b62f-4317-9aee-e41bb82c8e9b\",\"type\":\"BasicTicker\"},{\"attributes\":{\"callback\":null,\"data\":{\"descripcion\":[\"Intervalos nubosos\",\"Intervalos nubosos\",\"Intervalos nubosos\",\"Intervalos nubosos\",\"Intervalos nubosos\",\"Intervalos nubosos\",\"Nuboso\",\"Nuboso\",\"Poco nuboso\",\"Poco nuboso\",\"Poco nuboso\",\"Poco nuboso\",\"Poco nuboso\",\"Intervalos nubosos\",\"Muy nuboso\",\"Nuboso\",\"Nuboso\",\"Poco nuboso\",\"Poco nuboso\",\"Despejado\",\"Poco nuboso\",\"Nuboso\",\"Poco nuboso\"],\"estado_cielo\":[\"13n\",\"13n\",\"13n\",\"13n\",\"13n\",\"13n\",\"14n\",\"14n\",\"12\",\"12\",\"12\",\"12\",\"12\",\"13\",\"15\",\"14\",\"14\",\"12n\",\"12n\",\"11n\",\"12n\",\"14n\",\"12n\"],\"humedad_relativa\":[\"81\",\"82\",\"82\",\"84\",\"85\",\"87\",\"88\",\"90\",\"91\",\"86\",\"81\",\"75\",\"74\",\"73\",\"71\",\"73\",\"77\",\"78\",\"80\",\"82\",\"81\",\"80\",\"80\"],\"index\":[0,1,2,3,4,5,6,7,8,9,10,11,12,13,14,15,16,17,18,19,20,21,22],\"nieve\":[\"0\",\"0\",\"0\",\"0\",\"0\",\"0\",\"0\",\"0\",\"0\",\"0\",\"0\",\"0\",\"0\",\"0\",\"0\",\"0\",\"0\",\"0\",\"0\",\"0\",\"0\",\"0\",\"0\"],\"periodo\":[\"01\",\"02\",\"03\",\"04\",\"05\",\"06\",\"07\",\"08\",\"09\",\"10\",\"11\",\"12\",\"13\",\"14\",\"15\",\"16\",\"17\",\"18\",\"19\",\"20\",\"21\",\"22\",\"23\"],\"precipitacion\":[\"0\",\"0\",\"0\",\"0\",\"0\",\"0\",\"0\",\"0\",\"0\",\"0\",\"0\",\"0\",\"0\",\"Ip\",\"0\",\"0\",\"0\",\"0\",\"0\",\"0\",\"0\",\"0\",\"0\"],\"sensacion_termica\":[\"4\",\"1\",\"1\",\"4\",\"2\",\"2\",\"3\",\"3\",\"4\",\"5\",\"10\",\"11\",\"12\",\"12\",\"12\",\"11\",\"10\",\"10\",\"10\",\"6\",\"6\",\"6\",\"6\"],\"temperatura\":[\"4\",\"3\",\"3\",\"4\",\"4\",\"5\",\"6\",\"6\",\"7\",\"8\",\"10\",\"11\",\"12\",\"12\",\"12\",\"11\",\"10\",\"10\",\"10\",\"9\",\"9\",\"9\",\"9\"],\"viento\":[\"13\",\"17\",\"14\",\"13\",\"13\",\"20\",\"24\",\"28\",\"30\",\"33\",\"40\",\"40\",\"40\",\"39\",\"37\",\"33\",\"36\",\"35\",\"32\",\"34\",\"37\",\"43\",\"43\"]},\"selected\":{\"id\":\"49a9b950-10f0-4177-8d8f-1273d9dd6d5b\",\"type\":\"Selection\"},\"selection_policy\":{\"id\":\"75c38dc2-84b5-4cf1-9380-48b2f0d165a0\",\"type\":\"UnionRenderers\"}},\"id\":\"d7b27edc-f44b-4241-9ea0-76a7670d76c1\",\"type\":\"ColumnDataSource\"},{\"attributes\":{\"below\":[{\"id\":\"9b0d9537-ce9f-4d36-9a27-d0d56273480c\",\"type\":\"LinearAxis\"}],\"extra_y_ranges\":{\"extra_y\":{\"id\":\"c81d3362-e071-4664-b244-60041bbbc8ce\",\"type\":\"Range1d\"}},\"left\":[{\"id\":\"f1ea7df1-7713-4db7-849f-61a8cd553971\",\"type\":\"LinearAxis\"}],\"plot_height\":500,\"plot_width\":500,\"renderers\":[{\"id\":\"9b0d9537-ce9f-4d36-9a27-d0d56273480c\",\"type\":\"LinearAxis\"},{\"id\":\"11e77f10-7528-48e9-b620-cbbc6da026ba\",\"type\":\"Grid\"},{\"id\":\"f1ea7df1-7713-4db7-849f-61a8cd553971\",\"type\":\"LinearAxis\"},{\"id\":\"b2758ea4-fee1-494d-b065-1357d8553f4d\",\"type\":\"Grid\"},{\"id\":\"30dd0f5b-b0d6-4db1-b82b-f4fecee1823e\",\"type\":\"BoxAnnotation\"},{\"id\":\"f963f52f-0737-4819-a171-b13120b095c4\",\"type\":\"Legend\"},{\"id\":\"172bda28-c4f1-48c6-b473-f1d6b80ae87c\",\"type\":\"GlyphRenderer\"},{\"id\":\"03f46559-02c4-4c4f-acc7-36c362467266\",\"type\":\"GlyphRenderer\"},{\"id\":\"49e50af0-64b2-4c8c-b490-da3e2b4838dc\",\"type\":\"LinearAxis\"}],\"right\":[{\"id\":\"49e50af0-64b2-4c8c-b490-da3e2b4838dc\",\"type\":\"LinearAxis\"}],\"title\":{\"id\":\"efa660d7-587e-42e4-a5e2-67b199c96bab\",\"type\":\"Title\"},\"toolbar\":{\"id\":\"0a90d5ba-5290-4e8d-8ccd-73b39ca98e63\",\"type\":\"Toolbar\"},\"x_range\":{\"id\":\"ccb5446b-2532-4f09-8496-9985d208b5be\",\"type\":\"Range1d\"},\"x_scale\":{\"id\":\"808d6292-4173-446e-8951-037d0b645681\",\"type\":\"LinearScale\"},\"y_range\":{\"id\":\"dd9a7a9d-86fc-4a58-8807-812f48ec08bb\",\"type\":\"Range1d\"},\"y_scale\":{\"id\":\"4d2c1c53-b3e5-41cd-9ef4-e3231ea86f7d\",\"type\":\"LinearScale\"}},\"id\":\"45b1782b-b327-40bb-b3a9-6e4efd411ddd\",\"subtype\":\"Figure\",\"type\":\"Plot\"},{\"attributes\":{\"bounds\":[0,null],\"callback\":null,\"end\":23,\"start\":7},\"id\":\"ccb5446b-2532-4f09-8496-9985d208b5be\",\"type\":\"Range1d\"},{\"attributes\":{},\"id\":\"b3e775cf-cd18-46cc-85a6-8e55b0e563fb\",\"type\":\"BasicTickFormatter\"}],\"root_ids\":[\"2435c5da-cabd-42f5-8d9b-01689d118bf8\"]},\"title\":\"Bokeh Application\",\"version\":\"0.13.0\"}};\n",
       "  var render_items = [{\"docid\":\"d5f8beaf-3898-4d44-b36b-048affd208ac\",\"roots\":{\"2435c5da-cabd-42f5-8d9b-01689d118bf8\":\"d7a54180-bf14-476c-b508-ddb57bdf5ff4\"}}];\n",
       "  root.Bokeh.embed.embed_items_notebook(docs_json, render_items);\n",
       "\n",
       "  }\n",
       "  if (root.Bokeh !== undefined) {\n",
       "    embed_document(root);\n",
       "  } else {\n",
       "    var attempts = 0;\n",
       "    var timer = setInterval(function(root) {\n",
       "      if (root.Bokeh !== undefined) {\n",
       "        embed_document(root);\n",
       "        clearInterval(timer);\n",
       "      }\n",
       "      attempts++;\n",
       "      if (attempts > 100) {\n",
       "        console.log(\"Bokeh: ERROR: Unable to run BokehJS code because BokehJS library is missing\")\n",
       "        clearInterval(timer);\n",
       "      }\n",
       "    }, 10, root)\n",
       "  }\n",
       "})(window);"
      ],
      "application/vnd.bokehjs_exec.v0+json": ""
     },
     "metadata": {
      "application/vnd.bokehjs_exec.v0+json": {
       "id": "2435c5da-cabd-42f5-8d9b-01689d118bf8"
      }
     },
     "output_type": "display_data"
    }
   ],
   "source": [
    "ds = ColumnDataSource(prediccion_hoy_1h)\n",
    "#print(ds.data)\n",
    "\n",
    "# create a plot and style its properties\n",
    "prediccion_hoy_1 = figure(plot_width=500, plot_height=500)\n",
    "prediccion_hoy_1.title.text = \"Madrid: predicción para el \" + fecha_consulta\n",
    "prediccion_hoy_1.x_range = Range1d(7, 23, bounds=(0, None))\n",
    "prediccion_hoy_1.y_range = Range1d(0, 20, bounds=(0, None))\n",
    "prediccion_hoy_1.xaxis.axis_label = 'Hora'\n",
    "prediccion_hoy_1.yaxis.axis_label = 'Temperatura'\n",
    "glyph_1 = prediccion_hoy_1.line('periodo','temperatura',source=ds, legend='Temperatura', color='#dc3700', line_width=3, alpha = 0.8)\n",
    "glyph_2 = prediccion_hoy_1.line('periodo','viento',source=ds, legend='Viento', color='#a5dc00', line_width=3, alpha = 0.8, y_range_name=\"extra_y\")\n",
    "prediccion_hoy_1.add_tools(HoverTool(renderers=[glyph_1], tooltips=[(\"Hora\",\"@periodo\"),(\"Temperatura\",\"@temperatura\")],mode='vline'))\n",
    "prediccion_hoy_1.add_tools(HoverTool(renderers=[glyph_2], tooltips=[(\"Hora\",\"@periodo\"),(\"Viento\",\"@viento\")],mode='vline'))\n",
    "prediccion_hoy_1.extra_y_ranges = {\"extra_y\": Range1d(start=0, end=50)}\n",
    "prediccion_hoy_1.add_layout(LinearAxis(y_range_name=\"extra_y\", axis_label='Viento'), 'right')\n",
    "\n",
    "prediccion_hoy_2 = figure(plot_width=500, plot_height=500)\n",
    "prediccion_hoy_2.title.text = \"Madrid: predicción para el \" + fecha_consulta\n",
    "prediccion_hoy_2.x_range = Range1d(7, 23, bounds=(0, None))\n",
    "prediccion_hoy_2.y_range = Range1d(0, 20, bounds=(0, None))\n",
    "prediccion_hoy_2.xaxis.axis_label = 'Hora'\n",
    "prediccion_hoy_2.yaxis.axis_label = 'Precipitacion'\n",
    "#prediccion_hoy_2.add_layout(LinearAxis(y_range_name=\"foo2\", axis_label='Humedad'), 'right')\n",
    "glyph_3 = prediccion_hoy_2.line('periodo','precipitacion',source=ds, legend='Precipitacion', color='#00a5dc', line_width=3, alpha = 0.8)\n",
    "glyph_4 = prediccion_hoy_2.line('periodo','humedad_relativa',source=ds, legend='Humedad', color='#00dc37', line_width=3, alpha = 0.8, y_range_name=\"extra_y\")\n",
    "prediccion_hoy_2.add_tools(HoverTool(renderers=[glyph_3], tooltips=[(\"Hora\",\"@periodo\"),(\"Precipitación\",\"@precipitacion\")],mode='vline'))\n",
    "prediccion_hoy_2.add_tools(HoverTool(renderers=[glyph_4], tooltips=[(\"Hora\",\"@periodo\"),(\"Humedad relativa\",\"@humedad_relativa\")],mode='vline'))\n",
    "prediccion_hoy_2.extra_y_ranges = {\"extra_y\": Range1d(start=0, end=100)}\n",
    "prediccion_hoy_2.add_layout(LinearAxis(y_range_name=\"extra_y\", axis_label='Humedad Relativa'), 'right')\n",
    "\n",
    "# mostrar en notebook o en html\n",
    "if (plotear_en_notebook):\n",
    "    output_notebook()\n",
    "else:\n",
    "    output_file(\"prediccion_tiempo.html\")\n",
    "    \n",
    "show(row(prediccion_hoy_1, prediccion_hoy_2))"
   ]
  },
  {
   "cell_type": "code",
   "execution_count": null,
   "metadata": {},
   "outputs": [],
   "source": []
  }
 ],
 "metadata": {
  "kernelspec": {
   "display_name": "Python 3",
   "language": "python",
   "name": "python3"
  },
  "language_info": {
   "codemirror_mode": {
    "name": "ipython",
    "version": 3
   },
   "file_extension": ".py",
   "mimetype": "text/x-python",
   "name": "python",
   "nbconvert_exporter": "python",
   "pygments_lexer": "ipython3",
   "version": "3.7.0"
  }
 },
 "nbformat": 4,
 "nbformat_minor": 2
}
