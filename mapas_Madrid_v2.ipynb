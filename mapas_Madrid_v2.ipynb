{
 "cells": [
  {
   "cell_type": "markdown",
   "metadata": {},
   "source": [
    "<img src=\"logo.png\" align=\"right\" style=\"float\" width=\"400\">\n",
    "<font color=\"#EF4123\"><h1 align=\"right\">Dude, where's my shared car?</h1></font>"
   ]
  },
  {
   "cell_type": "markdown",
   "metadata": {},
   "source": [
    "**Jupyter 01 - Mapas y censo de Madrid**\n",
    "----------------\n",
    "-----------------------------------------------------------------------\n",
    "Este código de Python se basa en *geopandas* para cargar mapas geométricos de Madrid y *bokeh* para hacer representaciones interactivas. Cuenta con la siguiente información:\n",
    "- Mapa topográfico (por vértices/puntos).\n",
    "- Mapas poligonales de distritos y barrios.\n",
    "- Información del censo a fecha 1 de Enero de 2018."
   ]
  },
  {
   "cell_type": "code",
   "execution_count": 1,
   "metadata": {},
   "outputs": [
    {
     "name": "stderr",
     "output_type": "stream",
     "text": [
      "C:\\Users\\Miguel\\Anaconda3\\lib\\site-packages\\distributed\\bokeh\\core.py:55: UserWarning: \n",
      "Failed to start diagnostics server on port 8787. [WinError 10048] Solo se permite un uso de cada dirección de socket (protocolo/dirección de red/puerto)\n",
      "  warnings.warn('\\n' + msg)\n"
     ]
    }
   ],
   "source": [
    "from distributed import Client\n",
    "client = Client(processes=False)\n",
    "#print(client)\n",
    "\n",
    "import geopandas as gpd\n",
    "import numpy as np\n",
    "import pandas as pd"
   ]
  },
  {
   "cell_type": "markdown",
   "metadata": {},
   "source": [
    "Configuraciones previas: ¿dónde muestro los mapas?"
   ]
  },
  {
   "cell_type": "code",
   "execution_count": 2,
   "metadata": {},
   "outputs": [],
   "source": [
    "plotear_en_notebook = False # en caso de False, en un html externo"
   ]
  },
  {
   "cell_type": "markdown",
   "metadata": {},
   "source": [
    "Datos Geográficos\n",
    "--------------\n",
    "Cargamos los ficheros de Vértices, Distritos y Barrios"
   ]
  },
  {
   "cell_type": "code",
   "execution_count": 3,
   "metadata": {},
   "outputs": [],
   "source": [
    "vertices = gpd.read_file('Datos/datos_vertices_etrs89/datos_vertices_etrs89.shp')\n",
    "distritos = gpd.read_file('Datos/DISTRITOS_ETRS89/SHP_ETRS89/DISTRITOS.shx')\n",
    "barrios = gpd.read_file('Datos/BARRIOS_ETRS89/SHP_ETRS89/BARRIOS.shx')\n",
    "\n",
    "lista_distritos = ['Centro','Arganzuela','Retiro','Salamanca','Chamartín','Tetuán','Chamberí','Fuencarral - El Pardo','Moncloa - Aravaca','Latina','Carabanchel','Usera','Puente de Vallecas','Moratalaz','Ciudad Lineal','Hortaleza','Villaverde','Villa de Vallecas','Vicálvaro','San Blas - Canillejas','Barajas']\n",
    "\n",
    "#print(barrios.head())\n",
    "#print(distritos.head())\n",
    "#print(vertices.head())"
   ]
  },
  {
   "cell_type": "markdown",
   "metadata": {},
   "source": [
    "Datos del Censo\n",
    "---------------\n",
    "Cargamos el censo de 2018"
   ]
  },
  {
   "cell_type": "code",
   "execution_count": 4,
   "metadata": {},
   "outputs": [],
   "source": [
    "datos_censo_2018 = pd.read_excel('Datos/censo_2018_barrios.xlsx', decimal = ',')\n",
    "#print(datos_censo_2018.head())\n",
    "datos_pob_barrios = pd.read_excel('Datos/estadistica_pob.xls', decimal = '.')\n",
    "#print(datos_pob_barrios.head())\n",
    "\n",
    "censo_Madrid_2018 = datos_censo_2018[datos_censo_2018['NOMBRE']=='Ciudad de Madrid']\n",
    "censo_2018 = datos_censo_2018[datos_censo_2018['NOMBRE']!='Ciudad de Madrid']\n",
    "censo_distritos = censo_2018[censo_2018['NOMBRE'].isin(lista_distritos)]\n",
    "censo_barrios = censo_2018[~censo_2018['NOMBRE'].isin(lista_distritos)]\n",
    "\n",
    "#print(censo_Madrid_2018)\n",
    "#print(censo_distritos.describe())\n",
    "#print(censo_barrios.describe())\n",
    "#print(censo_distritos.describe())"
   ]
  },
  {
   "cell_type": "markdown",
   "metadata": {},
   "source": [
    "Unión de las tablas"
   ]
  },
  {
   "cell_type": "code",
   "execution_count": 5,
   "metadata": {},
   "outputs": [],
   "source": [
    "barrios = barrios.merge(censo_barrios, on='NOMBRE')\n",
    "barrios = barrios.merge(datos_pob_barrios, on='NOMBRE')\n",
    "#print(barrios.head())\n",
    "#print(barrios.columns.tolist())\n",
    "\n",
    "distritos = distritos.merge(censo_distritos, on='NOMBRE')\n",
    "#print(distritos.head())"
   ]
  },
  {
   "cell_type": "markdown",
   "metadata": {},
   "source": [
    "Datos del Tiempo\n",
    "---------------\n",
    "Cargamos datos del tiempo a nivel local en periodos de una semana o en las próximas 24 horas desde la web de AEMET OpenData. \n",
    "\n",
    "Previamente a cualquier consulta, se requiere solicitar una api-key personal a través del siguiente enlace: https://opendata.aemet.es/centrodedescargas/altaUsuario?. Por otra parte, los métodos de consulta están documentados en https://opendata.aemet.es/dist/index.html?."
   ]
  },
  {
   "cell_type": "code",
   "execution_count": 6,
   "metadata": {},
   "outputs": [
    {
     "name": "stderr",
     "output_type": "stream",
     "text": [
      "C:\\Users\\Miguel\\Anaconda3\\lib\\site-packages\\ipykernel_launcher.py:3: DeprecationWarning: \n",
      ".ix is deprecated. Please use\n",
      ".loc for label based indexing or\n",
      ".iloc for positional indexing\n",
      "\n",
      "See the documentation here:\n",
      "http://pandas.pydata.org/pandas-docs/stable/indexing.html#ix-indexer-is-deprecated\n",
      "  This is separate from the ipykernel package so we can avoid doing imports until\n"
     ]
    }
   ],
   "source": [
    "# read api-key\n",
    "apy_key = pd.read_csv('Datos/api-key.csv')\n",
    "apikey = pd.DataFrame(apy_key, columns=['site','key']).ix[0,'key']\n",
    "#print(apykey)"
   ]
  },
  {
   "cell_type": "code",
   "execution_count": 21,
   "metadata": {},
   "outputs": [],
   "source": [
    "from functions_aemet import consulta_diaria_aemet\n",
    "from functions_aemet import consulta_horaria_aemet\n",
    "\n",
    "# configuraciones previas\n",
    "localidad = \"28079\" #\"26036\", Calahorra; \"28079\", Madrid \n",
    "periodo = \"horaria\"  #\"horaria\"; \"diaria\", 1 semana\n",
    "query_semana = ['uvMax','fecha','humedadRelativa.maxima','humedadRelativa.minima','sensTermica.minima','sensTermica.maxima','temperatura.maxima','temperatura.minima']\n",
    "API = \"prediccion/especifica/municipio\""
   ]
  },
  {
   "cell_type": "code",
   "execution_count": 26,
   "metadata": {},
   "outputs": [],
   "source": [
    "datos_aemet_semana = consulta_diaria_aemet(apikey, localidad, query_semana, API)\n",
    "#print(datos_aemet_semana)"
   ]
  },
  {
   "cell_type": "code",
   "execution_count": 27,
   "metadata": {},
   "outputs": [],
   "source": [
    "prediccion_hoy_1h, prediccion_hoy_6h = consulta_horaria_aemet(apikey, localidad, API)\n",
    "#print(prediccion_hoy_1h)\n",
    "#print(prediccion_hoy_6h)"
   ]
  },
  {
   "cell_type": "markdown",
   "metadata": {},
   "source": [
    "Generación de datos de Demanda\n",
    "------------------------------\n",
    "\n",
    "Generamos series de datos \"de juguete\" para la demo"
   ]
  },
  {
   "cell_type": "code",
   "execution_count": 8,
   "metadata": {},
   "outputs": [],
   "source": [
    "nrow, ncol = barrios.shape\n",
    "#print(nrow)\n",
    "barrios['DEMANDA'] = np.round(np.abs(np.random.randn(nrow))*254)\n",
    "\n",
    "my_array = barrios['DEMANDA']\n",
    "total_demanda = my_array.sum()\n",
    "#print(total_demanda)\n",
    "\n",
    "#print(barrios.head())"
   ]
  },
  {
   "cell_type": "code",
   "execution_count": 9,
   "metadata": {},
   "outputs": [
    {
     "data": {
      "text/plain": [
       "<Figure size 640x480 with 1 Axes>"
      ]
     },
     "metadata": {},
     "output_type": "display_data"
    }
   ],
   "source": [
    "import matplotlib.pyplot as plt\n",
    "\n",
    "plt.hist(my_array, bins=21)  # arguments are passed to np.histogram\n",
    "plt.title(\"Histograma de Demanda\")\n",
    "plt.show()"
   ]
  },
  {
   "cell_type": "code",
   "execution_count": 10,
   "metadata": {},
   "outputs": [],
   "source": [
    "distritos['DEMANDA_AGREGADA'] = np.nan\n",
    "nrow, ncol = distritos.shape\n",
    "#print(nrow)\n",
    "\n",
    "for l in lista_distritos:\n",
    "    barrio_aux = barrios.loc[barrios['NOMDIS'] == l]\n",
    "    indices_aux = distritos.loc[distritos['NOMBRE'] == l].index.values\n",
    "    for i in indices_aux:\n",
    "        distritos.loc[i,'DEMANDA_AGREGADA']=barrio_aux['DEMANDA'].sum()\n",
    "    \n",
    "#print(distritos.head())"
   ]
  },
  {
   "cell_type": "markdown",
   "metadata": {},
   "source": [
    "Bokeh\n",
    "------\n",
    "\n",
    "Usaremos el paquete *Bokeh* para tener representaciones interactivas"
   ]
  },
  {
   "cell_type": "code",
   "execution_count": 11,
   "metadata": {},
   "outputs": [],
   "source": [
    "from bokeh.palettes import viridis,inferno,grey, cividis, plasma, magma\n",
    "from bokeh.io import output_notebook\n",
    "from bokeh.models import GeoJSONDataSource, HoverTool, CategoricalColorMapper, LinearColorMapper\n",
    "from bokeh.plotting import figure, show\n",
    "from bokeh.io import output_file, show\n",
    "from bokeh.models import ColorBar\n",
    "from bokeh.models import ColumnDataSource\n",
    "from bokeh.models.widgets import CheckboxGroup"
   ]
  },
  {
   "cell_type": "code",
   "execution_count": 12,
   "metadata": {},
   "outputs": [],
   "source": [
    "color_mapperLinear = LinearColorMapper(viridis(256))\n",
    "\n",
    "color_bar = ColorBar(color_mapper=color_mapperLinear,\n",
    "                     location=(0, 0),\n",
    "                     label_standoff=12)"
   ]
  },
  {
   "cell_type": "markdown",
   "metadata": {},
   "source": [
    "*Representación de puntos:* \n",
    "nos puede servir para la demo de la localización de la flota"
   ]
  },
  {
   "cell_type": "code",
   "execution_count": 13,
   "metadata": {},
   "outputs": [],
   "source": [
    "geo_source_puntos = GeoJSONDataSource(geojson=vertices.to_json())"
   ]
  },
  {
   "cell_type": "code",
   "execution_count": 14,
   "metadata": {},
   "outputs": [],
   "source": [
    "# etiquetas\n",
    "hover_puntos = HoverTool(point_policy='follow_mouse')\n",
    "hover_puntos.tooltips = [('Vértices', '@Vertice'), ('Situación', '@Situacion')]\n",
    "\n",
    "# plot\n",
    "puntos = figure(plot_width=750, plot_height=750,background_fill_color=\"lightgrey\")\n",
    "puntos.circle(x='x', y='y', size=4, alpha=0.7, source=geo_source_puntos)\n",
    "puntos.add_tools(hover_puntos)\n",
    "puntos.title.text = \"Madrid: puntos\"\n",
    "puntos.xaxis.visible = False\n",
    "puntos.yaxis.visible = False\n",
    "puntos.grid.visible = False\n",
    "#puntos.add_layout(color_bar, 'right')\n",
    "\n",
    "# mostrar en notebook o en html\n",
    "if (plotear_en_notebook):\n",
    "    output_notebook()\n",
    "else:\n",
    "    output_file(\"mapa_Madrid_puntos.html\")\n",
    "    \n",
    "show(puntos)"
   ]
  },
  {
   "cell_type": "markdown",
   "metadata": {},
   "source": [
    "*Representación de polígonos-barrios:* \n",
    "nos puede servir para la demo de la localización de la población en Madrid"
   ]
  },
  {
   "cell_type": "code",
   "execution_count": 15,
   "metadata": {},
   "outputs": [],
   "source": [
    "geo_source_barrios = GeoJSONDataSource(geojson=barrios.to_json())"
   ]
  },
  {
   "cell_type": "code",
   "execution_count": 16,
   "metadata": {},
   "outputs": [],
   "source": [
    "# lista de Distritos\n",
    "carrier_selection = CheckboxGroup(labels=lista_distritos, active = [0, 1])\n",
    "\n",
    "# etiquetas\n",
    "hover_barrios = HoverTool(point_policy='follow_mouse')\n",
    "hover_barrios.tooltips = [('Barrio', '@NOMBRE'), ('Distrito', '@NOMDIS'), ('Densidad', '@densidad')]\n",
    "\n",
    "# plot\n",
    "barrios = figure(plot_width=750, plot_height=750,background_fill_color=\"lightgrey\")\n",
    "barrios.patches(xs='xs', ys='ys', alpha=0.7, source=geo_source_barrios, color={'field': 'densidad', 'transform': color_mapperLinear})\n",
    "barrios.add_tools(hover_barrios)\n",
    "barrios.title.text = \"Madrid: densidad por barrios (Habitantes/Ha.)\"\n",
    "barrios.xaxis.visible = False\n",
    "barrios.yaxis.visible = False\n",
    "barrios.grid.visible = False\n",
    "barrios.add_layout(color_bar, 'right')\n",
    "\n",
    "# mostrar en notebook o en html\n",
    "if (plotear_en_notebook):\n",
    "    output_notebook()\n",
    "else:\n",
    "    output_file(\"mapa_Madrid_barrios.html\")\n",
    "    \n",
    "show(barrios)"
   ]
  },
  {
   "cell_type": "markdown",
   "metadata": {},
   "source": [
    "*Representación de polígonos-distritos de la Comunidad:* \n",
    "nos puede servir para la demo de la localización de la población fuera de Madrid Capital"
   ]
  },
  {
   "cell_type": "code",
   "execution_count": 17,
   "metadata": {},
   "outputs": [],
   "source": [
    "geo_source_dist = GeoJSONDataSource(geojson=distritos.to_json())"
   ]
  },
  {
   "cell_type": "code",
   "execution_count": 18,
   "metadata": {},
   "outputs": [],
   "source": [
    "color_bar = ColorBar(color_mapper=color_mapperLinear,\n",
    "                     location=(0, 0),\n",
    "                     label_standoff=12)"
   ]
  },
  {
   "cell_type": "code",
   "execution_count": 19,
   "metadata": {},
   "outputs": [],
   "source": [
    "# etiquetas\n",
    "hover_distritos = HoverTool(point_policy='follow_mouse')\n",
    "hover_distritos.tooltips = [('Distrito', '@NOMBRE'), ('Densidad', '@densidad')]\n",
    "\n",
    "# plot\n",
    "distritos = figure(plot_width=750, plot_height=750,background_fill_color=\"lightgrey\")\n",
    "distritos.patches(xs='xs', ys='ys', alpha=0.7, source=geo_source_dist, color={'field': 'densidad', 'transform': color_mapperLinear})\n",
    "distritos.add_tools(hover_distritos)\n",
    "distritos.title.text = \"Madrid: densidad por distritos (Habitantes/Ha.)\"\n",
    "distritos.xaxis.visible = False\n",
    "distritos.yaxis.visible = False\n",
    "distritos.grid.visible = False\n",
    "distritos.add_layout(color_bar, 'right')\n",
    "\n",
    "# mostrar en notebook o en html\n",
    "if (plotear_en_notebook):\n",
    "    output_notebook()\n",
    "else:\n",
    "    output_file(\"mapa_Madrid_distritos.html\")\n",
    "show(distritos)"
   ]
  },
  {
   "cell_type": "code",
   "execution_count": null,
   "metadata": {},
   "outputs": [],
   "source": []
  }
 ],
 "metadata": {
  "kernelspec": {
   "display_name": "Python 3",
   "language": "python",
   "name": "python3"
  },
  "language_info": {
   "codemirror_mode": {
    "name": "ipython",
    "version": 3
   },
   "file_extension": ".py",
   "mimetype": "text/x-python",
   "name": "python",
   "nbconvert_exporter": "python",
   "pygments_lexer": "ipython3",
   "version": "3.7.0"
  }
 },
 "nbformat": 4,
 "nbformat_minor": 2
}
